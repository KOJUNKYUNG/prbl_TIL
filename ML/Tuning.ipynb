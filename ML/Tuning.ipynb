{
  "nbformat": 4,
  "nbformat_minor": 0,
  "metadata": {
    "colab": {
      "provenance": [],
      "authorship_tag": "ABX9TyMauntlcQYXxD9HiL4FfkIM",
      "include_colab_link": true
    },
    "kernelspec": {
      "name": "python3",
      "display_name": "Python 3"
    },
    "language_info": {
      "name": "python"
    }
  },
  "cells": [
    {
      "cell_type": "markdown",
      "metadata": {
        "id": "view-in-github",
        "colab_type": "text"
      },
      "source": [
        "<a href=\"https://colab.research.google.com/github/KOJUNKYUNG/prbl_TIL/blob/master/ML/Tuning.ipynb\" target=\"_parent\"><img src=\"https://colab.research.google.com/assets/colab-badge.svg\" alt=\"Open In Colab\"/></a>"
      ]
    },
    {
      "cell_type": "code",
      "execution_count": null,
      "metadata": {
        "id": "-qI9jvCybFNQ"
      },
      "outputs": [],
      "source": [
        "import numpy as np\n",
        "import pandas as pd"
      ]
    },
    {
      "cell_type": "code",
      "source": [
        "from sklearn.datasets import load_breast_cancer\n",
        "from sklearn.ensemble import RandomForestClassifier"
      ],
      "metadata": {
        "id": "H17xVZMWmvNZ"
      },
      "execution_count": null,
      "outputs": []
    },
    {
      "cell_type": "code",
      "source": [
        "df = load_breast_cancer()"
      ],
      "metadata": {
        "id": "9ShtYCIBmfju"
      },
      "execution_count": null,
      "outputs": []
    },
    {
      "cell_type": "code",
      "source": [
        "X = df.data\n",
        "y = df.target\n",
        "X.shape, y.shape"
      ],
      "metadata": {
        "colab": {
          "base_uri": "https://localhost:8080/"
        },
        "id": "PFOftIb6mytW",
        "outputId": "e6870234-cb87-46c0-e0ea-5c496f13be91"
      },
      "execution_count": null,
      "outputs": [
        {
          "output_type": "execute_result",
          "data": {
            "text/plain": [
              "((569, 30), (569,))"
            ]
          },
          "metadata": {},
          "execution_count": 16
        }
      ]
    },
    {
      "cell_type": "code",
      "source": [
        "import math\n",
        "model_rf = RandomForestClassifier(n_estimators = 10, random_state = 0)\n",
        "def K_fold(X, y, k, model):\n",
        "    n = len(X)//k\n",
        "    idxs = []\n",
        "    for i in range(k):\n",
        "        try:\n",
        "            idx = range(i*n, (i+1)*n)\n",
        "            idxs.append(idx)\n",
        "        except:\n",
        "            break\n",
        "    train_score = []\n",
        "    test_score = []\n",
        "    for i in range(k):\n",
        "        test_y = y[idxs[i]]\n",
        "        test_X = X[idxs[i]]\n",
        "        train_X = np.delete(X, idxs[i], axis=0)\n",
        "        train_y = np.delete(y, idxs[i], axis=0)\n",
        "        \n",
        "        model.fit(train_X, train_y)\n",
        "\n",
        "        train_score.append(model.score(train_X, train_y))\n",
        "        test_score.append(model.score(test_X, test_y))\n",
        "    # print(train_score, test_score, idxs)\n",
        "    print('train score :', np.mean(train_score))\n",
        "    print('test score :', np.mean(test_score))"
      ],
      "metadata": {
        "id": "fyW1R7vvqPWo"
      },
      "execution_count": null,
      "outputs": []
    },
    {
      "cell_type": "code",
      "source": [
        "import math\n",
        "k = 5\n",
        "model = RandomForestClassifier(n_estimators = 10, random_state = 0)\n",
        "block_size = math.ceil(X.shape[0]/k)\n",
        "score_list = []\n",
        "for i in range(k):\n",
        "    max_length = min(block_size*(i+1), X.shape[0])\n",
        "    test_idxs = range(block_size*i, max_length)\n",
        "    train_idxs = [idx for idx in range(X.shape[0]) if idx not in test_idxs]\n",
        "    train_X = X[train_idxs]\n",
        "    train_y = y[train_idxs]\n",
        "    test_X = X[test_idxs]\n",
        "    test_y = y[test_idxs]\n",
        "    model.fit(train_X, train_y)\n",
        "    score = model.score(test_X, test_y)\n",
        "    score_list.append(score)\n",
        "print(np.mean(score_list))"
      ],
      "metadata": {
        "colab": {
          "base_uri": "https://localhost:8080/"
        },
        "id": "houDqi6kTuXM",
        "outputId": "9ab22390-cafe-4ab4-cf93-cdf7200d3547"
      },
      "execution_count": null,
      "outputs": [
        {
          "output_type": "stream",
          "name": "stdout",
          "text": [
            "0.9420276354603322\n"
          ]
        }
      ]
    },
    {
      "cell_type": "code",
      "source": [
        "def kfold_train(estimator, X, y, k=5):\n",
        "    block_size = math.ceil(X.shape[0]/k)\n",
        "    score_list = []\n",
        "    for i in range(k):\n",
        "        max_length = min(block_size*(i+1), X.shape[0])\n",
        "        test_idxs = range(block_size*i, max_length)\n",
        "        train_idxs = [idx for idx in range(X.shape[0]) if idx not in test_idxs]\n",
        "        train_X = X[train_idxs]\n",
        "        train_y = y[train_idxs]\n",
        "        test_X = X[test_idxs]\n",
        "        test_y = y[test_idxs]\n",
        "        estimator.fit(train_X, train_y)\n",
        "        score = estimator.score(test_X, test_y)\n",
        "        score_list.append(score)\n",
        "    # print(score_list)\n",
        "    avg_score = np.mean(score_list)\n",
        "    return avg_score"
      ],
      "metadata": {
        "id": "UUM-n7eVXuwu"
      },
      "execution_count": null,
      "outputs": []
    },
    {
      "cell_type": "code",
      "source": [
        "kfold_train(model, X, y, k=3)"
      ],
      "metadata": {
        "colab": {
          "base_uri": "https://localhost:8080/"
        },
        "id": "PLHM9WeJYX9w",
        "outputId": "307ec971-671d-46f2-ff38-adffec3fe0b3"
      },
      "execution_count": null,
      "outputs": [
        {
          "output_type": "stream",
          "name": "stdout",
          "text": [
            "[0.9263157894736842, 0.9578947368421052, 0.9629629629629629]\n"
          ]
        },
        {
          "output_type": "execute_result",
          "data": {
            "text/plain": [
              "0.9490578297595841"
            ]
          },
          "metadata": {},
          "execution_count": 103
        }
      ]
    },
    {
      "cell_type": "markdown",
      "source": [
        "## GridSearch"
      ],
      "metadata": {
        "id": "9ncZCBH4Y4vK"
      }
    },
    {
      "cell_type": "code",
      "source": [
        "grid_params = {'max_depth':[1, 2, 3, 4, 5, 6], 'min_samples_split':[2, 3]}\n",
        "now_param = {'max_depth':1, 'min_samples_split':3}"
      ],
      "metadata": {
        "id": "S5F0e3BMxoyF"
      },
      "execution_count": null,
      "outputs": []
    },
    {
      "cell_type": "code",
      "source": [
        "RandomForestClassifier(**now_param)"
      ],
      "metadata": {
        "colab": {
          "base_uri": "https://localhost:8080/",
          "height": 75
        },
        "id": "6NRlIs6i1rLj",
        "outputId": "86733436-0f7d-49a8-d2ba-ff02bf55956f"
      },
      "execution_count": null,
      "outputs": [
        {
          "output_type": "execute_result",
          "data": {
            "text/plain": [
              "RandomForestClassifier(max_depth=1, min_samples_split=3)"
            ],
            "text/html": [
              "<style>#sk-container-id-4 {color: black;background-color: white;}#sk-container-id-4 pre{padding: 0;}#sk-container-id-4 div.sk-toggleable {background-color: white;}#sk-container-id-4 label.sk-toggleable__label {cursor: pointer;display: block;width: 100%;margin-bottom: 0;padding: 0.3em;box-sizing: border-box;text-align: center;}#sk-container-id-4 label.sk-toggleable__label-arrow:before {content: \"▸\";float: left;margin-right: 0.25em;color: #696969;}#sk-container-id-4 label.sk-toggleable__label-arrow:hover:before {color: black;}#sk-container-id-4 div.sk-estimator:hover label.sk-toggleable__label-arrow:before {color: black;}#sk-container-id-4 div.sk-toggleable__content {max-height: 0;max-width: 0;overflow: hidden;text-align: left;background-color: #f0f8ff;}#sk-container-id-4 div.sk-toggleable__content pre {margin: 0.2em;color: black;border-radius: 0.25em;background-color: #f0f8ff;}#sk-container-id-4 input.sk-toggleable__control:checked~div.sk-toggleable__content {max-height: 200px;max-width: 100%;overflow: auto;}#sk-container-id-4 input.sk-toggleable__control:checked~label.sk-toggleable__label-arrow:before {content: \"▾\";}#sk-container-id-4 div.sk-estimator input.sk-toggleable__control:checked~label.sk-toggleable__label {background-color: #d4ebff;}#sk-container-id-4 div.sk-label input.sk-toggleable__control:checked~label.sk-toggleable__label {background-color: #d4ebff;}#sk-container-id-4 input.sk-hidden--visually {border: 0;clip: rect(1px 1px 1px 1px);clip: rect(1px, 1px, 1px, 1px);height: 1px;margin: -1px;overflow: hidden;padding: 0;position: absolute;width: 1px;}#sk-container-id-4 div.sk-estimator {font-family: monospace;background-color: #f0f8ff;border: 1px dotted black;border-radius: 0.25em;box-sizing: border-box;margin-bottom: 0.5em;}#sk-container-id-4 div.sk-estimator:hover {background-color: #d4ebff;}#sk-container-id-4 div.sk-parallel-item::after {content: \"\";width: 100%;border-bottom: 1px solid gray;flex-grow: 1;}#sk-container-id-4 div.sk-label:hover label.sk-toggleable__label {background-color: #d4ebff;}#sk-container-id-4 div.sk-serial::before {content: \"\";position: absolute;border-left: 1px solid gray;box-sizing: border-box;top: 0;bottom: 0;left: 50%;z-index: 0;}#sk-container-id-4 div.sk-serial {display: flex;flex-direction: column;align-items: center;background-color: white;padding-right: 0.2em;padding-left: 0.2em;position: relative;}#sk-container-id-4 div.sk-item {position: relative;z-index: 1;}#sk-container-id-4 div.sk-parallel {display: flex;align-items: stretch;justify-content: center;background-color: white;position: relative;}#sk-container-id-4 div.sk-item::before, #sk-container-id-4 div.sk-parallel-item::before {content: \"\";position: absolute;border-left: 1px solid gray;box-sizing: border-box;top: 0;bottom: 0;left: 50%;z-index: -1;}#sk-container-id-4 div.sk-parallel-item {display: flex;flex-direction: column;z-index: 1;position: relative;background-color: white;}#sk-container-id-4 div.sk-parallel-item:first-child::after {align-self: flex-end;width: 50%;}#sk-container-id-4 div.sk-parallel-item:last-child::after {align-self: flex-start;width: 50%;}#sk-container-id-4 div.sk-parallel-item:only-child::after {width: 0;}#sk-container-id-4 div.sk-dashed-wrapped {border: 1px dashed gray;margin: 0 0.4em 0.5em 0.4em;box-sizing: border-box;padding-bottom: 0.4em;background-color: white;}#sk-container-id-4 div.sk-label label {font-family: monospace;font-weight: bold;display: inline-block;line-height: 1.2em;}#sk-container-id-4 div.sk-label-container {text-align: center;}#sk-container-id-4 div.sk-container {/* jupyter's `normalize.less` sets `[hidden] { display: none; }` but bootstrap.min.css set `[hidden] { display: none !important; }` so we also need the `!important` here to be able to override the default hidden behavior on the sphinx rendered scikit-learn.org. See: https://github.com/scikit-learn/scikit-learn/issues/21755 */display: inline-block !important;position: relative;}#sk-container-id-4 div.sk-text-repr-fallback {display: none;}</style><div id=\"sk-container-id-4\" class=\"sk-top-container\"><div class=\"sk-text-repr-fallback\"><pre>RandomForestClassifier(max_depth=1, min_samples_split=3)</pre><b>In a Jupyter environment, please rerun this cell to show the HTML representation or trust the notebook. <br />On GitHub, the HTML representation is unable to render, please try loading this page with nbviewer.org.</b></div><div class=\"sk-container\" hidden><div class=\"sk-item\"><div class=\"sk-estimator sk-toggleable\"><input class=\"sk-toggleable__control sk-hidden--visually\" id=\"sk-estimator-id-4\" type=\"checkbox\" checked><label for=\"sk-estimator-id-4\" class=\"sk-toggleable__label sk-toggleable__label-arrow\">RandomForestClassifier</label><div class=\"sk-toggleable__content\"><pre>RandomForestClassifier(max_depth=1, min_samples_split=3)</pre></div></div></div></div></div>"
            ]
          },
          "metadata": {},
          "execution_count": 66
        }
      ]
    },
    {
      "cell_type": "code",
      "source": [
        "from itertools import product\n",
        "# https://velog.io/@davkim1030/Python-%EC%88%9C%EC%97%B4-%EC%A1%B0%ED%95%A9-product-itertools"
      ],
      "metadata": {
        "id": "lK-CdQD81wBm"
      },
      "execution_count": null,
      "outputs": []
    },
    {
      "cell_type": "code",
      "source": [
        "now_param = {'max_depth':1, 'min_samples_split':3}"
      ],
      "metadata": {
        "id": "xd0Jnezm24yO"
      },
      "execution_count": null,
      "outputs": []
    },
    {
      "cell_type": "code",
      "source": [
        "list(product(*grid_params))"
      ],
      "metadata": {
        "id": "WpYyq9iD2DNU"
      },
      "execution_count": null,
      "outputs": []
    },
    {
      "cell_type": "code",
      "source": [
        "grid_params.keys()"
      ],
      "metadata": {
        "colab": {
          "base_uri": "https://localhost:8080/"
        },
        "id": "q1FGGDUp4JRi",
        "outputId": "9eb8777a-111e-4c3e-bed0-10e61a4fd2dc"
      },
      "execution_count": null,
      "outputs": [
        {
          "output_type": "execute_result",
          "data": {
            "text/plain": [
              "dict_keys(['max_depth', 'min_samples_split'])"
            ]
          },
          "metadata": {},
          "execution_count": 85
        }
      ]
    },
    {
      "cell_type": "code",
      "source": [
        "list(product(*(grid_params.values())))"
      ],
      "metadata": {
        "colab": {
          "base_uri": "https://localhost:8080/"
        },
        "id": "VPWecjMY2tqp",
        "outputId": "3b809308-4bed-46e3-c903-5b158a346251"
      },
      "execution_count": null,
      "outputs": [
        {
          "output_type": "execute_result",
          "data": {
            "text/plain": [
              "[(1, 2),\n",
              " (1, 3),\n",
              " (2, 2),\n",
              " (2, 3),\n",
              " (3, 2),\n",
              " (3, 3),\n",
              " (4, 2),\n",
              " (4, 3),\n",
              " (5, 2),\n",
              " (5, 3),\n",
              " (6, 2),\n",
              " (6, 3)]"
            ]
          },
          "metadata": {},
          "execution_count": 80
        }
      ]
    },
    {
      "cell_type": "code",
      "source": [
        "from itertools import product\n",
        "grid_params = {'max_depth':[1, 2, 3, 4, 5, 6], 'min_samples_split':[2, 3]}"
      ],
      "metadata": {
        "id": "w_qav73Z3i6j"
      },
      "execution_count": null,
      "outputs": []
    },
    {
      "cell_type": "code",
      "source": [
        "def rf_gridsc(X, y, grid_params, k):\n",
        "    pram_pd = list(product(*(grid_params.values())))\n",
        "    for ps in pram_pd:\n",
        "        for i, key in enumerate(grid_params):\n",
        "            now_param[key] = ps[i]\n",
        "        \n",
        "        model_rf = RandomForestClassifier(**now_param)\n",
        "        print(ps, '결과 : ')\n",
        "        K_fold(X, y, k, model_rf)\n",
        "        print('\\n')\n",
        "        "
      ],
      "metadata": {
        "id": "5P_VM_Lg3KB1"
      },
      "execution_count": null,
      "outputs": []
    },
    {
      "cell_type": "code",
      "source": [
        "rf_gridsc(X, y, grid_params, 10)"
      ],
      "metadata": {
        "id": "wNUWUCHh6_NK"
      },
      "execution_count": null,
      "outputs": []
    },
    {
      "cell_type": "code",
      "source": [],
      "metadata": {
        "id": "I8hGhu3a55SP"
      },
      "execution_count": null,
      "outputs": []
    },
    {
      "cell_type": "code",
      "source": [
        "grid_parameters = {'max_depth':[1, 2, 3], 'min_samples_split':[2, 3]}\n",
        "cv = 3"
      ],
      "metadata": {
        "id": "qDXA8TjtY-M5"
      },
      "execution_count": null,
      "outputs": []
    },
    {
      "cell_type": "code",
      "source": [
        "from itertools import product\n",
        "# list(product())\n",
        "param = dict(zip(grid_parameters, (1, 4)))"
      ],
      "metadata": {
        "id": "BPOlrqjrZH92"
      },
      "execution_count": null,
      "outputs": []
    },
    {
      "cell_type": "code",
      "source": [
        "model = RandomForestClassifier(**param)\n",
        "kfold_train(model, df.data, df.target, k=cv)"
      ],
      "metadata": {
        "colab": {
          "base_uri": "https://localhost:8080/"
        },
        "id": "1MdZ8DGlZu35",
        "outputId": "a94590fd-055e-4746-9001-5b6ea0b116dc"
      },
      "execution_count": null,
      "outputs": [
        {
          "output_type": "stream",
          "name": "stdout",
          "text": [
            "[0.8421052631578947, 0.9526315789473684, 0.9470899470899471]\n"
          ]
        },
        {
          "output_type": "execute_result",
          "data": {
            "text/plain": [
              "0.9139422630650701"
            ]
          },
          "metadata": {},
          "execution_count": 108
        }
      ]
    },
    {
      "cell_type": "code",
      "source": [
        "for value in list(product(*grid_parameters.values())):\n",
        "    param = dict(zip(grid_parameters, value))\n",
        "\n",
        "    model = RandomForestClassifier(**param)\n",
        "    print(kfold_train(model, df.data, df.target, k=cv))"
      ],
      "metadata": {
        "colab": {
          "base_uri": "https://localhost:8080/"
        },
        "id": "-ynzUKG-aYCY",
        "outputId": "986800fb-213b-4bb2-fead-c3176a1b0529"
      },
      "execution_count": null,
      "outputs": [
        {
          "output_type": "stream",
          "name": "stdout",
          "text": [
            "[0.8421052631578947, 0.9473684210526315, 0.9365079365079365]\n",
            "0.9086605402394875\n",
            "[0.8368421052631579, 0.9473684210526315, 0.9365079365079365]\n",
            "0.9069061542745752\n",
            "[0.9, 0.9578947368421052, 0.9576719576719577]\n",
            "0.9385222315046876\n",
            "[0.9, 0.9736842105263158, 0.9523809523809523]\n",
            "0.9420217209690893\n",
            "[0.9157894736842105, 0.9736842105263158, 0.9470899470899471]\n",
            "0.945521210433491\n",
            "[0.9105263157894737, 0.9789473684210527, 0.9629629629629629]\n",
            "0.9508122157244965\n"
          ]
        }
      ]
    },
    {
      "cell_type": "code",
      "source": [
        "def gridsearch_cv(model_class, grid_parameters, data, target, cv=3):\n",
        "    grid_list = []\n",
        "    for value in list(product(*grid_parameters.values())):\n",
        "        param = dict(zip(grid_parameters, value))\n",
        "\n",
        "        model = model_class(**param)\n",
        "        score = kfold_train(model, data, target, k=cv)\n",
        "\n",
        "        grid_list.append([param, score])\n",
        "    return grid_list"
      ],
      "metadata": {
        "id": "OuI1qws9bPS5"
      },
      "execution_count": null,
      "outputs": []
    },
    {
      "cell_type": "code",
      "source": [
        "result = gridsearch_cv(RandomForestClassifier, grid_parameters, df.data, df.target, cv=5)\n",
        "result"
      ],
      "metadata": {
        "colab": {
          "base_uri": "https://localhost:8080/"
        },
        "id": "CaY1YINpcEXf",
        "outputId": "53aa2d6c-6c8d-4fb5-e942-54e49deb9d36"
      },
      "execution_count": null,
      "outputs": [
        {
          "output_type": "stream",
          "name": "stdout",
          "text": [
            "[0.7982456140350878, 0.9210526315789473, 0.9649122807017544, 0.9473684210526315, 0.9380530973451328]\n",
            "[0.7894736842105263, 0.9210526315789473, 0.956140350877193, 0.9473684210526315, 0.9557522123893806]\n",
            "[0.8771929824561403, 0.9385964912280702, 0.9736842105263158, 0.9473684210526315, 0.9646017699115044]\n",
            "[0.8771929824561403, 0.9210526315789473, 0.9736842105263158, 0.956140350877193, 0.9646017699115044]\n",
            "[0.8859649122807017, 0.956140350877193, 0.9736842105263158, 0.956140350877193, 0.9734513274336283]\n",
            "[0.8859649122807017, 0.9298245614035088, 0.9736842105263158, 0.956140350877193, 0.9734513274336283]\n"
          ]
        },
        {
          "output_type": "execute_result",
          "data": {
            "text/plain": [
              "[[{'max_depth': 1, 'min_samples_split': 2}, 0.9139264089427106],\n",
              " [{'max_depth': 1, 'min_samples_split': 3}, 0.9139574600217356],\n",
              " [{'max_depth': 2, 'min_samples_split': 2}, 0.9402887750349326],\n",
              " [{'max_depth': 2, 'min_samples_split': 3}, 0.9385343890700202],\n",
              " [{'max_depth': 3, 'min_samples_split': 2}, 0.9490762303990063],\n",
              " [{'max_depth': 3, 'min_samples_split': 3}, 0.9438130725042695]]"
            ]
          },
          "metadata": {},
          "execution_count": 113
        }
      ]
    },
    {
      "cell_type": "code",
      "source": [],
      "metadata": {
        "id": "CCHSHnm5cSEM"
      },
      "execution_count": null,
      "outputs": []
    }
  ]
}