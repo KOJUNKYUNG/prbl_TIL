{
 "cells": [
  {
   "cell_type": "code",
   "execution_count": 3,
   "metadata": {},
   "outputs": [],
   "source": [
    "import numpy as np\n",
    "import pandas as pd"
   ]
  },
  {
   "cell_type": "code",
   "execution_count": null,
   "metadata": {},
   "outputs": [],
   "source": [
    "# 결측값\n",
    "df.isnull().sum()"
   ]
  },
  {
   "attachments": {},
   "cell_type": "markdown",
   "metadata": {},
   "source": [
    "#### dropna()\n",
    "- DataFrame.dropna(axis, how, thresh, subset, inplace)\n",
    "- `axis` : {0 or ‘index’, 1 or ‘columns’}, default 0\n",
    "- `how` : {‘any’, ‘all’}, default ‘any’\n",
    "- `thresh` : int, optional  \n",
    "    삭제되지 않기 위해 요구되는 최소 Value 수\n",
    "- `subset` : column label or sequence of labels, optional\n",
    "- `inplace` : bool, default False"
   ]
  },
  {
   "cell_type": "code",
   "execution_count": null,
   "metadata": {},
   "outputs": [],
   "source": [
    "df_ti.dropna(axis=0, subset=['Embarked'], inplace=True)"
   ]
  },
  {
   "cell_type": "code",
   "execution_count": 1,
   "metadata": {},
   "outputs": [
    {
     "name": "stdout",
     "output_type": "stream",
     "text": [
      "[2, 9, 3, 4, 8]\n"
     ]
    }
   ],
   "source": [
    "import random\n",
    "print(random.sample(range(10), k=5))\n",
    "# 리스트형으로 반환"
   ]
  },
  {
   "cell_type": "code",
   "execution_count": 4,
   "metadata": {},
   "outputs": [
    {
     "name": "stdout",
     "output_type": "stream",
     "text": [
      "[31, 23, 31, 17, 14, 36, 18, 8, 39, 17]\n",
      "[33, 46, 28, 19, 27, 23, 41, 16, 9, 38]\n",
      "['사과', '사과', '사탕', '사과', '에벌레']\n"
     ]
    }
   ],
   "source": [
    "print(list(np.random.choice(range(50), 10)))# 복원추출\n",
    "print(list(np.random.choice(range(50), 10, replace=False)))# 비복원추출\n",
    "word_list = ['사과', '에벌레', '사탕']\n",
    "print(list(np.random.choice(word_list, 5, p=[0.4, 0.5, 0.1])))# 확률부여"
   ]
  },
  {
   "cell_type": "code",
   "execution_count": null,
   "metadata": {},
   "outputs": [],
   "source": []
  }
 ],
 "metadata": {
  "kernelspec": {
   "display_name": "study",
   "language": "python",
   "name": "python3"
  },
  "language_info": {
   "codemirror_mode": {
    "name": "ipython",
    "version": 3
   },
   "file_extension": ".py",
   "mimetype": "text/x-python",
   "name": "python",
   "nbconvert_exporter": "python",
   "pygments_lexer": "ipython3",
   "version": "3.10.9"
  },
  "orig_nbformat": 4
 },
 "nbformat": 4,
 "nbformat_minor": 2
}
