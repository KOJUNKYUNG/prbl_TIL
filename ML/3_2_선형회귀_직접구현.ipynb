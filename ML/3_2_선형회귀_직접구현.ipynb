{
  "cells": [
    {
      "cell_type": "markdown",
      "metadata": {
        "id": "AXv59NvRhEcP"
      },
      "source": [
        "# 선형회귀 직접 구현"
      ]
    },
    {
      "cell_type": "markdown",
      "metadata": {
        "id": "w5MOe5fEhG3X"
      },
      "source": [
        "## 데이터셋 준비\n",
        "\n",
        " - 사이킷런 임의 회귀 데이터 생성"
      ]
    },
    {
      "cell_type": "code",
      "execution_count": 1,
      "metadata": {
        "id": "1yFbQck0gwW3"
      },
      "outputs": [],
      "source": [
        "import numpy as np\n",
        "from sklearn.datasets import make_regression\n",
        "import matplotlib.pyplot as plt"
      ]
    },
    {
      "cell_type": "code",
      "execution_count": 2,
      "metadata": {
        "id": "FmZ9rsfFgwW5"
      },
      "outputs": [],
      "source": [
        "# 가상의 데이터 생성\n",
        "data = make_regression(n_samples = 1000, n_features = 1, bias = 1000, noise = 50) \n",
        "# 1000개의 데이터, 1개의 특성 가진 데이터 셋을 생성합니다.\n",
        "\n",
        "#X_1 -> data[0] / y_1 -> data[1]"
      ]
    },
    {
      "cell_type": "code",
      "execution_count": 3,
      "metadata": {
        "colab": {
          "base_uri": "https://localhost:8080/"
        },
        "id": "rle5LOSfgwW5",
        "outputId": "deda90e2-28ed-4865-db55-43ec10c0b8d8"
      },
      "outputs": [
        {
          "name": "stdout",
          "output_type": "stream",
          "text": [
            "1000 (1000, 1) (1000,)\n"
          ]
        }
      ],
      "source": [
        "x_train = data[0]\n",
        "y_train = data[1]\n",
        "\n",
        "n_data = len(x_train)\n",
        "print(n_data, x_train.shape, y_train.shape)"
      ]
    },
    {
      "cell_type": "code",
      "execution_count": 10,
      "metadata": {
        "colab": {
          "base_uri": "https://localhost:8080/",
          "height": 265
        },
        "id": "OHJoFc3__4Uu",
        "outputId": "ccee2ade-5923-40b1-9df4-aa242eecc784"
      },
      "outputs": [
        {
          "data": {
            "image/png": "[encoded data removed]",
            "text/plain": [
              "<Figure size 432x288 with 1 Axes>"
            ]
          },
          "metadata": {
            "needs_background": "light"
          },
          "output_type": "display_data"
        }
      ],
      "source": [
        "plt.scatter(x_train, y_train, s=10)\n",
        "plt.show()"
      ]
    },
    {
      "cell_type": "markdown",
      "metadata": {
        "id": "M8LnOH4lhccd"
      },
      "source": [
        "## Hypothesis, Cost 정의\n",
        "\n",
        " - hypothesis: x_train * w1 + w0\n",
        " - cost : RSS"
      ]
    },
    {
      "cell_type": "code",
      "execution_count": null,
      "metadata": {
        "id": "F_eayoKbhcHD"
      },
      "outputs": [],
      "source": []
    },
    {
      "cell_type": "markdown",
      "metadata": {
        "id": "a6Nc90w0hrUO"
      },
      "source": [
        "## Weight 초기화"
      ]
    },
    {
      "cell_type": "code",
      "execution_count": 25,
      "metadata": {
        "colab": {
          "base_uri": "https://localhost:8080/"
        },
        "id": "myDTSvzugwW6",
        "outputId": "b4b45ad2-4606-43cd-fba0-f1f6f6801a4a"
      },
      "outputs": [
        {
          "name": "stdout",
          "output_type": "stream",
          "text": [
            "[0.37505782] [0.37975901]\n"
          ]
        }
      ],
      "source": [
        "w1 = np.random.rand(1)\n",
        "w0 = np.random.rand(1)\n",
        "print(w1, w0)"
      ]
    },
    {
      "cell_type": "code",
      "execution_count": 50,
      "metadata": {
        "id": "CLuvExccFQpa"
      },
      "outputs": [],
      "source": [
        "w1 = np.array([0.37505782])\n",
        "w0 = np.array([0.37975901])"
      ]
    },
    {
      "cell_type": "code",
      "execution_count": 47,
      "metadata": {
        "colab": {
          "base_uri": "https://localhost:8080/"
        },
        "id": "LyO9MaJRGhkM",
        "outputId": "2bede9cf-7d4d-4775-85c9-847c5123156b"
      },
      "outputs": [
        {
          "name": "stdout",
          "output_type": "stream",
          "text": [
            "[0.37505782] [0.37975901]\n"
          ]
        }
      ],
      "source": [
        "print(w1, w0)"
      ]
    },
    {
      "cell_type": "markdown",
      "metadata": {
        "id": "VNpYaq24httX"
      },
      "source": [
        "## y_pred 계산"
      ]
    },
    {
      "cell_type": "code",
      "execution_count": 51,
      "metadata": {
        "colab": {
          "base_uri": "https://localhost:8080/"
        },
        "id": "bF2F6iYHhtHI",
        "outputId": "47e62678-cadf-4e2f-c176-f8cf70d4faee"
      },
      "outputs": [
        {
          "data": {
            "text/plain": [
              "array([[ 3.62125262e-01],\n",
              "       [ 1.62426880e-04],\n",
              "       [ 2.23063814e-01],\n",
              "       [ 7.10834855e-02],\n",
              "       [-2.12296425e-01]])"
            ]
          },
          "execution_count": 51,
          "metadata": {},
          "output_type": "execute_result"
        }
      ],
      "source": [
        "y_pred = x_train * w1 + w0\n",
        "y_pred[:5]"
      ]
    },
    {
      "cell_type": "code",
      "execution_count": 11,
      "metadata": {
        "colab": {
          "base_uri": "https://localhost:8080/"
        },
        "id": "IeFaUD_zAiTJ",
        "outputId": "855f64c6-25ec-49bc-b4d8-26959f9bbec7"
      },
      "outputs": [
        {
          "data": {
            "text/plain": [
              "(1000, 1000)"
            ]
          },
          "execution_count": 11,
          "metadata": {},
          "output_type": "execute_result"
        }
      ],
      "source": [
        "len(y_pred), len(y_train)"
      ]
    },
    {
      "cell_type": "code",
      "execution_count": 52,
      "metadata": {
        "colab": {
          "base_uri": "https://localhost:8080/",
          "height": 265
        },
        "id": "l3mCx_NCA4ht",
        "outputId": "a5019343-ed66-4211-fca0-b6b8bae9c802"
      },
      "outputs": [
        {
          "data": {
            "image/png": "[encoded data removed]",
            "text/plain": [
              "<Figure size 432x288 with 1 Axes>"
            ]
          },
          "metadata": {
            "needs_background": "light"
          },
          "output_type": "display_data"
        }
      ],
      "source": [
        "xs = [x_train.min()-0.25, x_train.max()+0.25]\n",
        "ys = xs * w1 + w0\n",
        "plt.scatter(x_train, y_train, s=10)\n",
        "plt.ylim(0, 1500)\n",
        "plt.plot(xs, ys, color=\"#faa\")\n",
        "plt.show()"
      ]
    },
    {
      "cell_type": "markdown",
      "metadata": {
        "id": "m24pk3ukhygq"
      },
      "source": [
        "## cost 계산\n",
        "\n",
        " - cost = np.sum((y_train - y_pred) ** 2) / n_data"
      ]
    },
    {
      "cell_type": "code",
      "execution_count": 53,
      "metadata": {
        "id": "HzTXK-qbh1-j"
      },
      "outputs": [],
      "source": [
        "cost = np.sum((y_train-y_pred)**2)/n_data"
      ]
    },
    {
      "cell_type": "markdown",
      "metadata": {
        "id": "ITYkyfh5h0sc"
      },
      "source": [
        "## Weight 업데이트\n",
        "\n",
        " - w1 -= (-1) * np.sum((y_train - y_pred)  * x_train) * 2 / n_data\n",
        " - w0 -= (-1) * np.sum(y_train - y_pred) * 2 / n_data"
      ]
    },
    {
      "cell_type": "code",
      "execution_count": 54,
      "metadata": {
        "colab": {
          "base_uri": "https://localhost:8080/"
        },
        "id": "3utWsadxh7ZN",
        "outputId": "af141f6e-cb53-48d2-fe82-7375c231be3f"
      },
      "outputs": [
        {
          "name": "stdout",
          "output_type": "stream",
          "text": [
            "[2.33408801] [500.68521266]\n"
          ]
        }
      ],
      "source": [
        "w1 -= (-1/4000)*np.sum((y_train-y_pred)*x_train)*2/n_data\n",
        "w0 -= (-1/4000)*np.sum(y_train-y_pred)*2/n_data\n",
        "print(w1, w0)"
      ]
    },
    {
      "cell_type": "code",
      "execution_count": 56,
      "metadata": {
        "colab": {
          "base_uri": "https://localhost:8080/",
          "height": 265
        },
        "id": "ERFDFoctEJJY",
        "outputId": "40f27e1a-8a2e-497e-9f5d-1efd2f244b92"
      },
      "outputs": [
        {
          "data": {
            "image/png": "[encoded data removed]",
            "text/plain": [
              "<Figure size 432x288 with 1 Axes>"
            ]
          },
          "metadata": {
            "needs_background": "light"
          },
          "output_type": "display_data"
        }
      ],
      "source": [
        "xs = [x_train.min()-0.25, x_train.max()+0.25]\n",
        "ys = xs * w1 + w0\n",
        "plt.scatter(x_train, y_train, s=10)\n",
        "plt.ylim(0, 1500)\n",
        "plt.plot(xs, ys, color=\"#faa\")\n",
        "plt.show()"
      ]
    },
    {
      "cell_type": "markdown",
      "metadata": {
        "id": "6-2KxEIgh0lN"
      },
      "source": [
        "## 반복\n",
        "\n",
        " - epochs : 반복횟수\n",
        " - learning rate : 학습률\n",
        "\n",
        " - 출력 지우기\n",
        "    - from IPython.display import clear_output \n",
        "    - clear_output()"
      ]
    },
    {
      "cell_type": "code",
      "execution_count": 6,
      "metadata": {},
      "outputs": [
        {
          "name": "stdout",
          "output_type": "stream",
          "text": [
            "Collecting scikit-learn\n",
            "  Downloading scikit_learn-1.2.1-cp310-cp310-win_amd64.whl (8.3 MB)\n",
            "     ---------------------------------------- 8.3/8.3 MB 11.0 MB/s eta 0:00:00\n",
            "Requirement already satisfied: numpy>=1.17.3 in c:\\users\\tlrks\\anaconda3\\envs\\study\\lib\\site-packages (from scikit-learn) (1.24.2)\n",
            "Collecting joblib>=1.1.1\n",
            "  Downloading joblib-1.2.0-py3-none-any.whl (297 kB)\n",
            "     -------------------------------------- 298.0/298.0 kB 9.3 MB/s eta 0:00:00\n",
            "Collecting scipy>=1.3.2\n",
            "  Downloading scipy-1.10.1-cp310-cp310-win_amd64.whl (42.5 MB)\n",
            "     ---------------------------------------- 42.5/42.5 MB 9.6 MB/s eta 0:00:00\n",
            "Collecting threadpoolctl>=2.0.0\n",
            "  Downloading threadpoolctl-3.1.0-py3-none-any.whl (14 kB)\n",
            "Installing collected packages: threadpoolctl, scipy, joblib, scikit-learn\n",
            "Successfully installed joblib-1.2.0 scikit-learn-1.2.1 scipy-1.10.1 threadpoolctl-3.1.0\n",
            "Note: you may need to restart the kernel to use updated packages.\n"
          ]
        }
      ],
      "source": [
        "pip install scikit-learn"
      ]
    },
    {
      "cell_type": "code",
      "execution_count": 7,
      "metadata": {
        "id": "Jv1QwLWp_Ce0"
      },
      "outputs": [],
      "source": [
        "import numpy as np\n",
        "from sklearn.datasets import make_regression\n",
        "import matplotlib.pyplot as plt\n",
        "from IPython.display import clear_output\n",
        "import time"
      ]
    },
    {
      "cell_type": "code",
      "execution_count": 8,
      "metadata": {
        "id": "ccGFiMsVgwW6"
      },
      "outputs": [],
      "source": [
        "epochs = 1000\n",
        "learning_rate = 0.01"
      ]
    },
    {
      "cell_type": "code",
      "execution_count": 9,
      "metadata": {
        "id": "uMbCg1JtaVji"
      },
      "outputs": [],
      "source": [
        "def show_graph(w1, w0):\n",
        "    xs = [x_train.min()-0.25, x_train.max()+0.25]\n",
        "    ys = xs * w1 + w0\n",
        "    plt.scatter(x_train, y_train, s=10)\n",
        "    # plt.ylim(0, 1500)\n",
        "    plt.plot(xs, ys, color=\"#faa\")\n",
        "    # clear_output()\n",
        "    plt.show()\n",
        "    return"
      ]
    },
    {
      "cell_type": "code",
      "execution_count": 13,
      "metadata": {
        "id": "OGjpcNi6Hlsh"
      },
      "outputs": [],
      "source": [
        "def linear_self(x_train, y_train, epochs, learning_rate):\n",
        "    w1 = np.random.rand(1)\n",
        "    w0 = np.random.rand(1)\n",
        "    temp = 2**64 -1\n",
        "    for i in range(epochs):\n",
        "        if (i+1)%500 == 0:\n",
        "            print(str(i+1)+f'번째 실행중, w1:{w1} w0:{w0} cost:{cost}')\n",
        "            # show_graph(w1, w0)\n",
        "        # time.sleep(0.5)\n",
        "        y_pred = x_train * w1 + w0\n",
        "        cost = np.sum((y_train-y_pred.reshape(-1))**2)/n_data\n",
        "        cost_list.append(cost)\n",
        "        if cost >= temp:\n",
        "            break\n",
        "        w1 -= (-learning_rate)*np.dot((y_train-y_pred.reshape(-1)), x_train)*2/n_data\n",
        "        w0 -= (-learning_rate)*np.sum(y_train-y_pred.reshape(-1))*2/n_data\n",
        "        temp = cost\n",
        "    print(f'w1:{w1}, w0:{w0}, cost:{temp}')\n",
        "    return"
      ]
    },
    {
      "cell_type": "code",
      "execution_count": 11,
      "metadata": {
        "colab": {
          "base_uri": "https://localhost:8080/",
          "height": 283
        },
        "id": "LsYMXRWkgZRE",
        "outputId": "fe9f47cf-ac2b-4eec-da99-58815cd91758"
      },
      "outputs": [
        {
          "name": "stdout",
          "output_type": "stream",
          "text": [
            "1000 (1000, 1) (1000,)\n"
          ]
        },
        {
          "data": {
            "image/png": "[encoded data removed]",
            "text/plain": [
              "<Figure size 640x480 with 1 Axes>"
            ]
          },
          "metadata": {},
          "output_type": "display_data"
        }
      ],
      "source": [
        "data = make_regression(n_samples = 1000, n_features = 1, bias = 10, noise = 15)\n",
        "x_train = data[0]\n",
        "y_train = data[1]\n",
        "n_data = len(x_train)\n",
        "print(n_data, x_train.shape, y_train.shape)\n",
        "plt.scatter(x_train, y_train, s=10)\n",
        "plt.show()"
      ]
    },
    {
      "cell_type": "code",
      "execution_count": 14,
      "metadata": {
        "colab": {
          "base_uri": "https://localhost:8080/",
          "height": 1000
        },
        "id": "kCgyvCsMZdsO",
        "outputId": "f22c7ee1-f152-41e9-817c-ba29f1fe2bfa"
      },
      "outputs": [
        {
          "name": "stdout",
          "output_type": "stream",
          "text": [
            "500번째 실행중, w1:[34.32056614] w0:[6.72247823] cost:578.824153217659\n",
            "1000번째 실행중, w1:[46.22392842] w0:[8.81333673] cost:259.6909277928269\n",
            "1500번째 실행중, w1:[50.42471562] w0:[9.51753008] cost:220.05174825197383\n",
            "2000번째 실행중, w1:[51.9073874] w0:[9.75366372] cost:215.1269673817725\n",
            "2500번째 실행중, w1:[52.43076484] w0:[9.83244524] cost:214.51494227145778\n",
            "3000번째 실행중, w1:[52.61553978] w0:[9.85857409] cost:214.43886007772574\n",
            "3500번째 실행중, w1:[52.68078244] w0:[9.86717959] cost:214.42939899935556\n",
            "4000번째 실행중, w1:[52.70382249] w0:[9.86999009] cost:214.4282220561301\n",
            "4500번째 실행중, w1:[52.71196019] w0:[9.87089863] cost:214.42807558831316\n",
            "5000번째 실행중, w1:[52.71483485] w0:[9.8711886] cost:214.42805735286308\n",
            "w1:[52.71483812], w0:[9.87118891], cost:214.42805734207744\n"
          ]
        },
        {
          "data": {
            "image/png": "[encoded data removed]",
            "text/plain": [
              "<Figure size 640x480 with 1 Axes>"
            ]
          },
          "metadata": {},
          "output_type": "display_data"
        }
      ],
      "source": [
        "cost_list = []\n",
        "linear_self(x_train, y_train, 5000, 0.001)\n",
        "plt.plot(np.arange(5000), cost_list)\n",
        "plt.show()"
      ]
    },
    {
      "cell_type": "code",
      "execution_count": 15,
      "metadata": {
        "colab": {
          "base_uri": "https://localhost:8080/"
        },
        "id": "EHyBnmJ8k3we",
        "outputId": "32cdca29-6732-4a66-f1b3-d92ea88e15ac"
      },
      "outputs": [
        {
          "name": "stdout",
          "output_type": "stream",
          "text": [
            "1000 (1000, 100) (1000,)\n"
          ]
        }
      ],
      "source": [
        "data = make_regression(n_samples = 1000, n_features = 100, bias = 1000, noise = 50)\n",
        "x_train = data[0]\n",
        "y_train = data[1]\n",
        "n_data = len(x_train)\n",
        "print(n_data, x_train.shape, y_train.shape)"
      ]
    },
    {
      "cell_type": "code",
      "execution_count": 17,
      "metadata": {
        "id": "HfpT_hKJ1nA9"
      },
      "outputs": [],
      "source": [
        "def linear_self_n(x_train, y_train, epochs, learning_rate):\n",
        "    n_data = len(x_train)\n",
        "    w = np.random.rand(x_train.shape[1])\n",
        "    b = np.random.rand(1)\n",
        "    cost_list = []\n",
        "    for i in range(epochs):\n",
        "        y_pred = np.dot(x_train, w) + b\n",
        "        cost = np.sum((y_train - y_pred.reshape(-1))**2) / n_data\n",
        "        cost_list.append(cost)\n",
        "        if i % 500 == 0:\n",
        "            print(i+1, '번째 실행, cost : ', cost)\n",
        "        # w = w - (-learning_rate)*(y_train.reshape(-1,1)-y_pred).reshape(1,n_data).dot(x_train).T\n",
        "        w -= (-learning_rate)*np.dot((y_train-y_pred.reshape(-1)), x_train)*2/n_data\n",
        "        b -= (-learning_rate)*np.sum(y_train-y_pred.reshape(-1))*2/n_data\n",
        "    print(i+1, '번째 실행, cost : ', cost)\n",
        "    plt.plot(np.arange(epochs), cost_list)\n",
        "    plt.show()\n",
        "    return"
      ]
    },
    {
      "cell_type": "code",
      "execution_count": 18,
      "metadata": {
        "colab": {
          "base_uri": "https://localhost:8080/",
          "height": 1000
        },
        "id": "rgrPvDHX446m",
        "outputId": "81b095cf-a278-44bf-d808-5c2ec661ec02"
      },
      "outputs": [
        {
          "name": "stdout",
          "output_type": "stream",
          "text": [
            "1 번째 실행, cost :  1026278.5473274767\n",
            "501 번째 실행, cost :  139948.5608600945\n",
            "1001 번째 실행, cost :  27842.469686268374\n",
            "1501 번째 실행, cost :  8154.6284363655395\n",
            "2001 번째 실행, cost :  3815.1026586501966\n",
            "2501 번째 실행, cost :  2717.422765652619\n",
            "3001 번째 실행, cost :  2415.21555673324\n",
            "3501 번째 실행, cost :  2327.1274977912544\n",
            "4001 번째 실행, cost :  2300.349640648453\n",
            "4501 번째 실행, cost :  2291.9387407658446\n",
            "5000 번째 실행, cost :  2289.2298929905346\n"
          ]
        },
        {
          "data": {
            "image/png": "[encoded data removed]",
            "text/plain": [
              "<Figure size 640x480 with 1 Axes>"
            ]
          },
          "metadata": {},
          "output_type": "display_data"
        }
      ],
      "source": [
        "linear_self_n(x_train, y_train, 5000, 0.001)"
      ]
    },
    {
      "cell_type": "code",
      "execution_count": null,
      "metadata": {
        "id": "WJFELJH8XDMA"
      },
      "outputs": [],
      "source": []
    }
  ],
  "metadata": {
    "colab": {
      "collapsed_sections": [
        "w5MOe5fEhG3X",
        "M8LnOH4lhccd",
        "a6Nc90w0hrUO",
        "VNpYaq24httX",
        "m24pk3ukhygq",
        "ITYkyfh5h0sc"
      ],
      "provenance": []
    },
    "kernelspec": {
      "display_name": "Python 3.10.5 64-bit (windows store)",
      "language": "python",
      "name": "python3"
    },
    "language_info": {
      "codemirror_mode": {
        "name": "ipython",
        "version": 3
      },
      "file_extension": ".py",
      "mimetype": "text/x-python",
      "name": "python",
      "nbconvert_exporter": "python",
      "pygments_lexer": "ipython3",
      "version": "3.10.9"
    },
    "orig_nbformat": 4,
    "vscode": {
      "interpreter": {
        "hash": "74acc8fd29d08fd23b8add57691a7aaff18961a013511531a1e8050c061d9e6d"
      }
    }
  },
  "nbformat": 4,
  "nbformat_minor": 0
}
