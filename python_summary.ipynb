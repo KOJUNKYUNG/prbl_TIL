{
 "cells": [
  {
   "attachments": {},
   "cell_type": "markdown",
   "metadata": {},
   "source": [
    "## **`Yield`** ?"
   ]
  },
  {
   "cell_type": "code",
   "execution_count": 4,
   "metadata": {},
   "outputs": [
    {
     "name": "stdout",
     "output_type": "stream",
     "text": [
      "1  2  3  4  "
     ]
    }
   ],
   "source": [
    "# my_list는 iterable한 객체\n",
    "my_list = [1,2,3,4]\n",
    "for i in my_list:\n",
    "    print(i, end='  ')"
   ]
  },
  {
   "attachments": {},
   "cell_type": "markdown",
   "metadata": {},
   "source": [
    "- `값이 큰 객체를 순환해야 한다면?`  \n",
    "    모든 값을 메모리에 담은 뒤 순환하기 때문에 좋지 못함"
   ]
  },
  {
   "cell_type": "markdown",
   "metadata": {},
   "source": [
    "### Generators\n",
    "- 모든 값을 메모리에 담고 있지 않고 그때그때 값을 생성해서 반환\n",
    "- 한 번에 한 개의 값만 순환 가능"
   ]
  },
  {
   "cell_type": "code",
   "execution_count": 6,
   "metadata": {},
   "outputs": [
    {
     "name": "stdout",
     "output_type": "stream",
     "text": [
      "0  1  2  3  4  "
     ]
    }
   ],
   "source": [
    "my_list = [i for i in range(5)]\n",
    "my_generator = (i for i in range(5))\n",
    "# 한 번 순환한 뒤 다시 순환할 수 없음\n",
    "for i in my_generator:\n",
    "    print(i, end='  ')\n",
    "for i in my_generator:\n",
    "    print(i, end='  ')"
   ]
  },
  {
   "attachments": {},
   "cell_type": "markdown",
   "metadata": {},
   "source": [
    "### `Yield`\n",
    "- 함수가 Generator를 반환하게 함\n",
    "- 함수를 호출해도 함수 내의 코드들이 실행되지 않음\n",
    "- Generator를 반환하고, 함수 내의 코드는 반환된 Generator가 **순환될 때 실행**됨"
   ]
  },
  {
   "cell_type": "code",
   "execution_count": null,
   "metadata": {},
   "outputs": [],
   "source": []
  }
 ],
 "metadata": {
  "kernelspec": {
   "display_name": "study",
   "language": "python",
   "name": "python3"
  },
  "language_info": {
   "codemirror_mode": {
    "name": "ipython",
    "version": 3
   },
   "file_extension": ".py",
   "mimetype": "text/x-python",
   "name": "python",
   "nbconvert_exporter": "python",
   "pygments_lexer": "ipython3",
   "version": "3.10.9"
  },
  "orig_nbformat": 4
 },
 "nbformat": 4,
 "nbformat_minor": 2
}
