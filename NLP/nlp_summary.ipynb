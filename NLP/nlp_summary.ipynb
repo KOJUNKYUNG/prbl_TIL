{
 "cells": [
  {
   "attachments": {},
   "cell_type": "markdown",
   "metadata": {},
   "source": [
    "## 자연어 처리 패키지 제작\n",
    "- 자연어 처리하는 패키지를 만들기 위해 정리하는 파일\n",
    "- preprocessor\n",
    "    - `tokenizer.py`\n",
    "- word_embedding\n",
    "    - `tdm.py`\n",
    "    - `tfidf.py`\n",
    "- analyzer\n",
    "    - `keywords_extractor.py` #TFIDF, TextRank\n",
    "    - `summerizer.py` #Luhn Summerizer, TextRank\n",
    "    - `document_classifier.py` #NBC, NBC(sklearn)\n",
    "    - `sentiment_analyzer.py` #사전기반, NBC, NBC(sklearn)"
   ]
  },
  {
   "cell_type": "code",
   "execution_count": null,
   "metadata": {},
   "outputs": [],
   "source": [
    "import requests\n",
    "from bs4 import BeautifulSoup"
   ]
  },
  {
   "cell_type": "code",
   "execution_count": null,
   "metadata": {},
   "outputs": [],
   "source": [
    "headers = {'user-agent' : 'Mozilla/5.0 (Windows NT 10.0; Win64; x64) AppleWebKit/537.36 (KHTML, like Gecko) Chrome/110.0.0.0 Safari/537.36'}\n",
    "URL = ''\n",
    "# url, params 입력시 soup 객체를 반환하는 함수 --- 그냥 만들어봄, 크롤링 하기 위한 반복문 돌릴 땐 그냥 코딩하는 게 나을듯\n",
    "\n",
    "def make_soup(URL, method='get', params=None, headers=headers):\n",
    "    if method == 'get':\n",
    "        response = requests.get(URL, params=params, headers=headers)\n",
    "    elif method == 'post':\n",
    "        response = requests.post(URL, params=params, headers=headers)\n",
    "    else:\n",
    "        return\n",
    "    soup = BeautifulSoup(response.text, 'html.parser')\n",
    "    return soup"
   ]
  }
 ],
 "metadata": {
  "language_info": {
   "name": "python"
  },
  "orig_nbformat": 4
 },
 "nbformat": 4,
 "nbformat_minor": 2
}
