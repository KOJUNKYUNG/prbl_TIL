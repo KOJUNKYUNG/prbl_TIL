{
 "cells": [
  {
   "attachments": {},
   "cell_type": "markdown",
   "metadata": {},
   "source": [
    "## 자연어 처리 패키지 제작\n",
    "- 자연어 처리하는 패키지를 만들기 위해 정리하는 파일\n",
    "- preprocessor\n",
    "    - `tokenizer.py`\n",
    "- word_embedding\n",
    "    - `tdm.py`\n",
    "    - `tfidf.py`\n",
    "- analyzer\n",
    "    - `keywords_extractor.py` #TFIDF, TextRank\n",
    "    - `summerizer.py` #Luhn Summerizer, TextRank\n",
    "    - `document_classifier.py` #NBC, NBC(sklearn)\n",
    "    - `sentiment_analyzer.py` #사전기반, NBC, NBC(sklearn)"
   ]
  },
  {
   "cell_type": "code",
   "execution_count": null,
   "metadata": {},
   "outputs": [],
   "source": [
    "import requests\n",
    "from bs4 import BeautifulSoup"
   ]
  },
  {
   "cell_type": "code",
   "execution_count": null,
   "metadata": {},
   "outputs": [],
   "source": [
    "headers = {'user-agent' : 'Mozilla/5.0 (Windows NT 10.0; Win64; x64) AppleWebKit/537.36 (KHTML, like Gecko) Chrome/110.0.0.0 Safari/537.36'}\n",
    "URL = ''\n",
    "# url, params 입력시 soup 객체를 반환하는 함수 --- 그냥 만들어봄, 크롤링 하기 위한 반복문 돌릴 땐 그냥 코딩하는 게 나을듯\n",
    "\n",
    "def make_soup(URL, method='get', params=None, headers=headers):\n",
    "    if method == 'get':\n",
    "        response = requests.get(URL, params=params, headers=headers)\n",
    "    elif method == 'post':\n",
    "        response = requests.post(URL, params=params, headers=headers)\n",
    "    else:\n",
    "        return\n",
    "    soup = BeautifulSoup(response.text, 'html.parser')\n",
    "    return soup"
   ]
  },
  {
   "attachments": {},
   "cell_type": "markdown",
   "metadata": {},
   "source": [
    "## Scrapy"
   ]
  },
  {
   "cell_type": "code",
   "execution_count": 1,
   "metadata": {},
   "outputs": [],
   "source": [
    "import scrapy"
   ]
  },
  {
   "cell_type": "code",
   "execution_count": null,
   "metadata": {},
   "outputs": [],
   "source": [
    "# 콘솔에서\n",
    "scrapy shell# scrapy shell 실행\n",
    "fetch(URL)# fetch 실행하여 URL에 대해 response 받음\n",
    "view(response)\n",
    "response.css('#main_content li a::attr(href)').getall() # response에서 해당 태그의 href 속성을 가져와서 리스트로 반환\n",
    "quit\n"
   ]
  }
 ],
 "metadata": {
  "kernelspec": {
   "display_name": "study",
   "language": "python",
   "name": "python3"
  },
  "language_info": {
   "codemirror_mode": {
    "name": "ipython",
    "version": 3
   },
   "file_extension": ".py",
   "mimetype": "text/x-python",
   "name": "python",
   "nbconvert_exporter": "python",
   "pygments_lexer": "ipython3",
   "version": "3.10.9"
  },
  "orig_nbformat": 4
 },
 "nbformat": 4,
 "nbformat_minor": 2
}
