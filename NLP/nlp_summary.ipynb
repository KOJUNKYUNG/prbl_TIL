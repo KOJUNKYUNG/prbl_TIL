{
 "cells": [
  {
   "attachments": {},
   "cell_type": "markdown",
   "metadata": {},
   "source": [
    "## 자연어 처리 패키지 제작\n",
    "- 자연어 처리하는 패키지를 만들기 위해 정리하는 파일\n",
    "- preprocessor\n",
    "    - `tokenizer.py`\n",
    "- word_embedding\n",
    "    - `tdm.py`\n",
    "    - `tfidf.py`\n",
    "- analyzer\n",
    "    - `keywords_extractor.py` #TFIDF, TextRank\n",
    "    - `summerizer.py` #Luhn Summerizer, TextRank\n",
    "    - `document_classifier.py` #NBC, NBC(sklearn)\n",
    "    - `sentiment_analyzer.py` #사전기반, NBC, NBC(sklearn)"
   ]
  },
  {
   "cell_type": "code",
   "execution_count": null,
   "metadata": {},
   "outputs": [],
   "source": [
    "import requests\n",
    "from bs4 import BeautifulSoup"
   ]
  },
  {
   "cell_type": "code",
   "execution_count": null,
   "metadata": {},
   "outputs": [],
   "source": [
    "headers = {'user-agent' : 'Mozilla/5.0 (Windows NT 10.0; Win64; x64) AppleWebKit/537.36 (KHTML, like Gecko) Chrome/110.0.0.0 Safari/537.36'}\n",
    "URL = ''\n",
    "# url, params 입력시 soup 객체를 반환하는 함수 --- 그냥 만들어봄, 크롤링 하기 위한 반복문 돌릴 땐 그냥 코딩하는 게 나을듯\n",
    "\n",
    "def make_soup(URL, method='get', params=None, headers=headers):\n",
    "    if method == 'get':\n",
    "        response = requests.get(URL, params=params, headers=headers)\n",
    "    elif method == 'post':\n",
    "        response = requests.post(URL, params=params, headers=headers)\n",
    "    else:\n",
    "        return\n",
    "    soup = BeautifulSoup(response.text, 'html.parser')\n",
    "    return soup"
   ]
  },
  {
   "attachments": {},
   "cell_type": "markdown",
   "metadata": {},
   "source": [
    "## Scrapy"
   ]
  },
  {
   "cell_type": "code",
   "execution_count": 1,
   "metadata": {},
   "outputs": [],
   "source": [
    "import scrapy"
   ]
  },
  {
   "attachments": {},
   "cell_type": "markdown",
   "metadata": {},
   "source": [
    "1. *!pip install scrapy*\n",
    "\n",
    "2. cd로 scrapy 만들 장소로 이동\n",
    "3. *!scrapy startproject {project_name}*(프로젝트 생성)\n",
    "4. *cd {project_name}/{project_name}/spiders*(스파이더 생성하기 위해 이동)\n",
    "5. *!scrapy genspider {spider_name} {domain}*(스파이더 생성)\n",
    "6. item.py, settings.py 설정\n",
    "7. *scrapy crawl {spider_name} -o {file_name.csv} -t csv*(크롤링)"
   ]
  },
  {
   "attachments": {},
   "cell_type": "markdown",
   "metadata": {},
   "source": [
    "1. 콘솔에서 scrapy.cfg 있는 곳까지 이동\n",
    "\n",
    "2. scrapy shell\n",
    "3. fetch(URL)\n",
    "4. view(response)\n",
    "5. response.css('#main_content li a::attr(href)').getall()\n",
    "6. quit"
   ]
  },
  {
   "cell_type": "markdown",
   "metadata": {},
   "source": [
    "## 키워드 추출"
   ]
  },
  {
   "cell_type": "code",
   "execution_count": null,
   "metadata": {},
   "outputs": [],
   "source": [
    "!sudo apt-get install -y fonts-nanum\n",
    "!sudo fc-cache -fv\n",
    "!rm ~/.cache/matplotlib -rf\n",
    "\n",
    "# 패키지 업그레이드로 인한 에러 처리를 위해 라이브러리 버전 Downgrade\n",
    "!pip install 'networkx<2.7'\n",
    "\n",
    "!sudo apt-get install g++ openjdk-7-jdk # Install Java 1.7+\n",
    "!sudo apt-get install python3-dev; pip3 install konlpy   # Python 3.x\n",
    "!sudo apt-get install curl\n",
    "!bash <(curl -s https://raw.githubusercontent.com/konlpy/konlpy/master/scripts/mecab.sh)\n",
    "\n",
    "%pip install python-mecab-ko\n",
    "%pip install mecab-python\n",
    "%pip install konlpy\n",
    "# 런타임 재시작 !"
   ]
  },
  {
   "attachments": {},
   "cell_type": "markdown",
   "metadata": {},
   "source": [
    "### CountVectorizer()\n",
    "\n",
    "- `max_df` : 값보다 높은 비율로 나타나는 토큰 무시\n",
    "- `min_df` : 값보다 낮은 개수의 문서에 나타나는 토큰 무시\n",
    "- `max_features` : 말뭉치에서 유지할 토큰 최대 개수\n",
    "- `ngram_range` : n-gram 범위 지정"
   ]
  },
  {
   "attachments": {},
   "cell_type": "markdown",
   "metadata": {},
   "source": [
    "- 토큰화된 문서들을 처리하여 키워드 추출"
   ]
  },
  {
   "attachments": {},
   "cell_type": "markdown",
   "metadata": {},
   "source": [
    "### TfidfTransformer()\n",
    "- "
   ]
  },
  {
   "cell_type": "markdown",
   "metadata": {},
   "source": []
  }
 ],
 "metadata": {
  "kernelspec": {
   "display_name": "study",
   "language": "python",
   "name": "python3"
  },
  "language_info": {
   "codemirror_mode": {
    "name": "ipython",
    "version": 3
   },
   "file_extension": ".py",
   "mimetype": "text/x-python",
   "name": "python",
   "nbconvert_exporter": "python",
   "pygments_lexer": "ipython3",
   "version": "3.10.9"
  },
  "orig_nbformat": 4
 },
 "nbformat": 4,
 "nbformat_minor": 2
}
